{
 "cells": [
  {
   "cell_type": "code",
   "execution_count": 2,
   "metadata": {
    "collapsed": true
   },
   "outputs": [],
   "source": [
    "import numpy as np"
   ]
  },
  {
   "cell_type": "markdown",
   "source": [
    "Ejercicio 1\n",
    "Crea 3 nuevos arrays.\n",
    "Array de tipo entero, que contenga solo los números impares del 1 al 100.\n",
    "Array de tipo cadena con tu nombre y apellidos\n",
    "Array de tipo fechas, que contenga todos los días desde el 01Enero2020 al 04Febrero2020"
   ],
   "metadata": {
    "collapsed": false
   }
  },
  {
   "cell_type": "code",
   "execution_count": 3,
   "outputs": [
    {
     "data": {
      "text/plain": "array([ 1,  3,  5,  7,  9, 11, 13, 15, 17, 19, 21, 23, 25, 27, 29, 31, 33,\n       35, 37, 39, 41, 43, 45, 47, 49, 51, 53, 55, 57, 59, 61, 63, 65, 67,\n       69, 71, 73, 75, 77, 79, 81, 83, 85, 87, 89, 91, 93, 95, 97, 99])"
     },
     "execution_count": 3,
     "metadata": {},
     "output_type": "execute_result"
    }
   ],
   "source": [
    "impares = np.arange(1, 100, 2)\n",
    "impares"
   ],
   "metadata": {
    "collapsed": false
   }
  },
  {
   "cell_type": "code",
   "execution_count": 4,
   "outputs": [
    {
     "data": {
      "text/plain": "array(['adrian', ' prz ', ' cb'], dtype='<U6')"
     },
     "execution_count": 4,
     "metadata": {},
     "output_type": "execute_result"
    }
   ],
   "source": [
    "name = np.array([\"adrian\" , \" prz \" , \" cb\"])\n",
    "name"
   ],
   "metadata": {
    "collapsed": false
   }
  },
  {
   "cell_type": "code",
   "execution_count": 5,
   "outputs": [
    {
     "data": {
      "text/plain": "dtype('<U6')"
     },
     "execution_count": 5,
     "metadata": {},
     "output_type": "execute_result"
    }
   ],
   "source": [
    "name.dtype"
   ],
   "metadata": {
    "collapsed": false
   }
  },
  {
   "cell_type": "code",
   "execution_count": 6,
   "outputs": [
    {
     "data": {
      "text/plain": "array([ 1,  3,  5,  7,  9, 11, 13, 15, 17, 19, 21, 23, 25, 27, 29, 31, 33,\n       35, 37, 39, 41, 43, 45, 47, 49, 51, 53, 55, 57, 59, 61, 63, 65, 67,\n       69, 71, 73, 75, 77, 79, 81, 83, 85, 87, 89, 91, 93, 95, 97, 99])"
     },
     "execution_count": 6,
     "metadata": {},
     "output_type": "execute_result"
    }
   ],
   "source": [
    "_ = np.arange(1,100)\n",
    "array_impares = _[_ % 2 != 0]\n",
    "array_impares"
   ],
   "metadata": {
    "collapsed": false
   }
  },
  {
   "cell_type": "code",
   "execution_count": 7,
   "outputs": [
    {
     "data": {
      "text/plain": "array(['2022-01-01', '2022-01-02', '2022-01-03', '2022-01-04',\n       '2022-01-05', '2022-01-06', '2022-01-07', '2022-01-08',\n       '2022-01-09', '2022-01-10', '2022-01-11', '2022-01-12',\n       '2022-01-13', '2022-01-14', '2022-01-15', '2022-01-16',\n       '2022-01-17', '2022-01-18', '2022-01-19', '2022-01-20',\n       '2022-01-21', '2022-01-22', '2022-01-23', '2022-01-24',\n       '2022-01-25', '2022-01-26', '2022-01-27', '2022-01-28',\n       '2022-01-29', '2022-01-30', '2022-01-31', '2022-02-01',\n       '2022-02-02', '2022-02-03'], dtype='datetime64[D]')"
     },
     "execution_count": 7,
     "metadata": {},
     "output_type": "execute_result"
    }
   ],
   "source": [
    "fechas = np.arange('2022-01-01', '2022-02-04', dtype='datetime64[D]')\n",
    "fechas"
   ],
   "metadata": {
    "collapsed": false
   }
  },
  {
   "cell_type": "markdown",
   "source": [
    "### Ejercicio 2\n",
    "\n",
    "Recupera los últimos 10 elementos del array de impares"
   ],
   "metadata": {
    "collapsed": false
   }
  },
  {
   "cell_type": "code",
   "execution_count": 10,
   "outputs": [
    {
     "data": {
      "text/plain": "array([99, 97, 95, 93, 91, 89, 87, 85, 83, 81])"
     },
     "execution_count": 10,
     "metadata": {},
     "output_type": "execute_result"
    }
   ],
   "source": [
    "imparess = impares[:len(impares)-11:-1]\n",
    "imparess"
   ],
   "metadata": {
    "collapsed": false
   }
  },
  {
   "cell_type": "markdown",
   "source": [
    "### Ejercicio 3\n",
    "\n",
    "Recorre el array de fechas, y genera un nuevo numpy array que contenga unicamente los días laborales"
   ],
   "metadata": {
    "collapsed": false
   }
  },
  {
   "cell_type": "code",
   "execution_count": 11,
   "outputs": [
    {
     "data": {
      "text/plain": "array(['2022-01-03', '2022-01-04', '2022-01-05', '2022-01-06',\n       '2022-01-07', '2022-01-10', '2022-01-11', '2022-01-12',\n       '2022-01-13', '2022-01-14', '2022-01-17', '2022-01-18',\n       '2022-01-19', '2022-01-20', '2022-01-21', '2022-01-24',\n       '2022-01-25', '2022-01-26', '2022-01-27', '2022-01-28',\n       '2022-01-31', '2022-02-01', '2022-02-02', '2022-02-03'],\n      dtype='datetime64[D]')"
     },
     "execution_count": 11,
     "metadata": {},
     "output_type": "execute_result"
    }
   ],
   "source": [
    "laborables = []\n",
    "for fecha in fechas:\n",
    "    if np.is_busday(fecha):\n",
    "        laborables.append(fecha)\n",
    "laborables_array = np.array(laborables, dtype = 'datetime64')\n",
    "\n",
    "laborables_array"
   ],
   "metadata": {
    "collapsed": false
   }
  },
  {
   "cell_type": "code",
   "execution_count": 13,
   "outputs": [
    {
     "data": {
      "text/plain": "array(['2022-01-03', '2022-01-04', '2022-01-05', '2022-01-06',\n       '2022-01-07', '2022-01-10', '2022-01-11', '2022-01-12',\n       '2022-01-13', '2022-01-14', '2022-01-17', '2022-01-18',\n       '2022-01-19', '2022-01-20', '2022-01-21', '2022-01-24',\n       '2022-01-25', '2022-01-26', '2022-01-27', '2022-01-28',\n       '2022-01-31', '2022-02-01', '2022-02-02', '2022-02-03'],\n      dtype='datetime64[D]')"
     },
     "execution_count": 13,
     "metadata": {},
     "output_type": "execute_result"
    }
   ],
   "source": [
    "fechas[np.is_busday(fechas)]\n"
   ],
   "metadata": {
    "collapsed": false
   }
  },
  {
   "cell_type": "markdown",
   "source": [
    "### Ejercicio 4\n",
    "\n",
    "Genera la siguiente matriz.\n",
    "\n",
    "$A = \\begin{pmatrix}\n",
    "10 & 1 & 8 & 4 \\\\\n",
    "3 & 7 & 2 & 1 \\\\\n",
    "0 & 2 & 20 & 12 \\\\\n",
    "\\end{pmatrix}$\n",
    "\n",
    "¿De qué tipo es?\n",
    "Luego, implementa una máscara a todos los números de la matriz mayores o iguales a 10"
   ],
   "metadata": {
    "collapsed": false
   }
  },
  {
   "cell_type": "code",
   "execution_count": 14,
   "outputs": [
    {
     "data": {
      "text/plain": "matrix([[10,  1,  8,  4],\n        [ 3,  7,  2,  1],\n        [ 0,  2, 20, 12]])"
     },
     "execution_count": 14,
     "metadata": {},
     "output_type": "execute_result"
    }
   ],
   "source": [
    "A = np.matrix('10 1 8 4 ; 3 7 2 1 ; 0 2 20 12')\n",
    "A"
   ],
   "metadata": {
    "collapsed": false
   }
  },
  {
   "cell_type": "code",
   "execution_count": 15,
   "outputs": [
    {
     "data": {
      "text/plain": "dtype('int32')"
     },
     "execution_count": 15,
     "metadata": {},
     "output_type": "execute_result"
    }
   ],
   "source": [
    "A.dtype"
   ],
   "metadata": {
    "collapsed": false
   }
  },
  {
   "cell_type": "code",
   "execution_count": 16,
   "outputs": [
    {
     "data": {
      "text/plain": "masked_matrix(\n  data=[[--, 1, 8, 4],\n        [3, 7, 2, 1],\n        [0, 2, --, --]],\n  mask=[[ True, False, False, False],\n        [False, False, False, False],\n        [False, False,  True,  True]],\n  fill_value=999999)"
     },
     "execution_count": 16,
     "metadata": {},
     "output_type": "execute_result"
    }
   ],
   "source": [
    "import numpy.ma as ma\n",
    "\n",
    "A_masked = ma.masked_greater_equal(A, 10)\n",
    "A_masked"
   ],
   "metadata": {
    "collapsed": false
   }
  },
  {
   "cell_type": "markdown",
   "source": [
    "Crea dos fechas, la primera de ellas será tu fecha de nacimiento, y la segunda, la de un familiar o amigo tuyo.\n",
    "\n",
    "- ¿Qué diferencia en horas hay entre las dos fechas?\n",
    "- ¿Cual sería tu fecha de nacimiento si hubieras nacido 236 horas antes?"
   ],
   "metadata": {
    "collapsed": false
   }
  },
  {
   "cell_type": "code",
   "execution_count": 25,
   "outputs": [
    {
     "name": "stdout",
     "output_type": "stream",
     "text": [
      "2700 days\n"
     ]
    },
    {
     "data": {
      "text/plain": "numpy.timedelta64(64800,'h')"
     },
     "execution_count": 25,
     "metadata": {},
     "output_type": "execute_result"
    }
   ],
   "source": [
    "fecha1 = np.datetime64('1993-05-03')\n",
    "fecha2 = np.datetime64('1985-12-11')\n",
    "\n",
    "fechadif = fecha1 - fecha2\n",
    "print(fechadif)\n",
    "np.timedelta64(fechadif, 'h')"
   ],
   "metadata": {
    "collapsed": false
   }
  },
  {
   "cell_type": "code",
   "execution_count": 23,
   "outputs": [
    {
     "name": "stdout",
     "output_type": "stream",
     "text": [
      "él es 64800 hours horas mayor que yo\n"
     ]
    }
   ],
   "source": [
    "print(f\"él es {str(np.timedelta64(fechadif, 'h'))} horas mayor que yo\")"
   ],
   "metadata": {
    "collapsed": false
   }
  },
  {
   "cell_type": "code",
   "execution_count": 24,
   "outputs": [
    {
     "name": "stdout",
     "output_type": "stream",
     "text": [
      "La fecha de nacimiento de él sería 1993-04-23T04\n"
     ]
    }
   ],
   "source": [
    "h = np.timedelta64(236, 'h')\n",
    "nueva_fechnaci = fecha1 - h\n",
    "print(f\"La fecha de nacimiento de él sería {str(nueva_fechnaci)}\")"
   ],
   "metadata": {
    "collapsed": false
   }
  },
  {
   "cell_type": "code",
   "execution_count": null,
   "outputs": [],
   "source": [],
   "metadata": {
    "collapsed": false
   }
  }
 ],
 "metadata": {
  "kernelspec": {
   "display_name": "Python 3",
   "language": "python",
   "name": "python3"
  },
  "language_info": {
   "codemirror_mode": {
    "name": "ipython",
    "version": 2
   },
   "file_extension": ".py",
   "mimetype": "text/x-python",
   "name": "python",
   "nbconvert_exporter": "python",
   "pygments_lexer": "ipython2",
   "version": "2.7.6"
  }
 },
 "nbformat": 4,
 "nbformat_minor": 0
}
